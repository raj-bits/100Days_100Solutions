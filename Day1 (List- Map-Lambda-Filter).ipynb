{
 "cells": [
  {
   "cell_type": "markdown",
   "id": "de21fdba",
   "metadata": {},
   "source": [
    "# Write a program to find values in a list which can be divided by 5"
   ]
  },
  {
   "cell_type": "code",
   "execution_count": 1,
   "id": "e98c9486",
   "metadata": {},
   "outputs": [],
   "source": [
    "lst = [1, 5, 6, 9, 14, 15, 84, 110, 82, 93, 55]"
   ]
  },
  {
   "cell_type": "markdown",
   "id": "37693132",
   "metadata": {},
   "source": [
    "Solution 1"
   ]
  },
  {
   "cell_type": "code",
   "execution_count": 2,
   "id": "6eaa9431",
   "metadata": {},
   "outputs": [
    {
     "name": "stdout",
     "output_type": "stream",
     "text": [
      "[5, 15, 110, 55]\n"
     ]
    }
   ],
   "source": [
    "def div(lst):\n",
    "    out_lst = []\n",
    "    for val in lst:\n",
    "        if val%5 == 0:\n",
    "            out_lst.append(val)\n",
    "    return out_lst\n",
    "\n",
    "print(div(lst))"
   ]
  },
  {
   "cell_type": "markdown",
   "id": "4128f4ea",
   "metadata": {},
   "source": [
    "Solution 2"
   ]
  },
  {
   "cell_type": "code",
   "execution_count": 8,
   "id": "ec0f9503",
   "metadata": {},
   "outputs": [
    {
     "name": "stdout",
     "output_type": "stream",
     "text": [
      "[5, 15, 110, 55]\n"
     ]
    }
   ],
   "source": [
    "out_lst = list(filter(lambda val: val%5 == 0, lst))\n",
    "print(out_lst)"
   ]
  },
  {
   "cell_type": "markdown",
   "id": "4b3726e4",
   "metadata": {},
   "source": [
    "# # Write a program to find a word in a sentence"
   ]
  },
  {
   "cell_type": "code",
   "execution_count": 11,
   "id": "c3427647",
   "metadata": {},
   "outputs": [
    {
     "name": "stdout",
     "output_type": "stream",
     "text": [
      "Is there a DOG here?\n"
     ]
    },
    {
     "data": {
      "text/plain": [
       "True"
      ]
     },
     "execution_count": 11,
     "metadata": {},
     "output_type": "execute_result"
    }
   ],
   "source": [
    "def find_word(user_input):\n",
    "    return \"dog\" in user_input.lower()\n",
    "find_word(input())"
   ]
  },
  {
   "cell_type": "code",
   "execution_count": null,
   "id": "021f764b",
   "metadata": {},
   "outputs": [],
   "source": []
  }
 ],
 "metadata": {
  "kernelspec": {
   "display_name": "Python 3",
   "language": "python",
   "name": "python3"
  },
  "language_info": {
   "codemirror_mode": {
    "name": "ipython",
    "version": 3
   },
   "file_extension": ".py",
   "mimetype": "text/x-python",
   "name": "python",
   "nbconvert_exporter": "python",
   "pygments_lexer": "ipython3",
   "version": "3.8.8"
  }
 },
 "nbformat": 4,
 "nbformat_minor": 5
}
