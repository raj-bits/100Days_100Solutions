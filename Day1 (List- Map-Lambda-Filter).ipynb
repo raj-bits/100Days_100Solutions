{
 "cells": [
  {
   "cell_type": "markdown",
   "id": "14b80529",
   "metadata": {},
   "source": [
    "# Write a program to find values in a list which can be divided by 5"
   ]
  },
  {
   "cell_type": "code",
   "execution_count": 1,
   "id": "c30714b0",
   "metadata": {},
   "outputs": [],
   "source": [
    "lst = [1, 5, 6, 9, 14, 15, 84, 110, 82, 93, 55]"
   ]
  },
  {
   "cell_type": "markdown",
   "id": "6d3559e4",
   "metadata": {},
   "source": [
    "Solution 1"
   ]
  },
  {
   "cell_type": "code",
   "execution_count": 2,
   "id": "3abc16f2",
   "metadata": {},
   "outputs": [
    {
     "name": "stdout",
     "output_type": "stream",
     "text": [
      "[5, 15, 110, 55]\n"
     ]
    }
   ],
   "source": [
    "def div(lst):\n",
    "    out_lst = []\n",
    "    for val in lst:\n",
    "        if val%5 == 0:\n",
    "            out_lst.append(val)\n",
    "    return out_lst\n",
    "\n",
    "print(div(lst))"
   ]
  },
  {
   "cell_type": "markdown",
   "id": "79755b5a",
   "metadata": {},
   "source": [
    "Solution 2"
   ]
  },
  {
   "cell_type": "code",
   "execution_count": 8,
   "id": "8d3450c8",
   "metadata": {},
   "outputs": [
    {
     "name": "stdout",
     "output_type": "stream",
     "text": [
      "[5, 15, 110, 55]\n"
     ]
    }
   ],
   "source": [
    "out_lst = list(filter(lambda val: val%5 == 0, lst))\n",
    "print(out_lst)"
   ]
  },
  {
   "cell_type": "code",
   "execution_count": null,
   "id": "f6ec383d",
   "metadata": {},
   "outputs": [],
   "source": []
  }
 ],
 "metadata": {
  "kernelspec": {
   "display_name": "Python 3",
   "language": "python",
   "name": "python3"
  },
  "language_info": {
   "codemirror_mode": {
    "name": "ipython",
    "version": 3
   },
   "file_extension": ".py",
   "mimetype": "text/x-python",
   "name": "python",
   "nbconvert_exporter": "python",
   "pygments_lexer": "ipython3",
   "version": "3.8.8"
  }
 },
 "nbformat": 4,
 "nbformat_minor": 5
}
